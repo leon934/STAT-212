{
 "cells": [
  {
   "cell_type": "code",
   "execution_count": null,
   "id": "88917aa6",
   "metadata": {},
   "outputs": [
    {
     "name": "stdout",
     "output_type": "stream",
     "text": [
      "7.810414465989789\n"
     ]
    }
   ],
   "source": [
    "import numpy as np\n",
    "import math\n",
    "\n",
    "counts = [6,24,42,59,62,44,41,14,6,2]\n",
    "exchanges = range(10)\n",
    "\n",
    "total = 0\n",
    "\n",
    "for i in exchanges:\n",
    "    total += counts[i] * i\n",
    "\n",
    "theta = total / 300\n",
    "\n",
    "print(theta)\n",
    "\n",
    "pi = [(np.exp(-theta) * theta ** i) / math.factorial(i) for i in range(0, 8)]\n",
    "\n",
    "pi.append(1 - sum(pi))\n",
    "\n",
    "counts = [6,24,42,59,62,44,41,14,8]\n",
    "\n",
    "chi_square = sum([(counts[i] - 300 * pi[i]) ** 2 / (300 * pi[i]) for i in range(9)])\n",
    "\n",
    "print(chi_square)"
   ]
  }
 ],
 "metadata": {
  "kernelspec": {
   "display_name": "Python 3",
   "language": "python",
   "name": "python3"
  },
  "language_info": {
   "codemirror_mode": {
    "name": "ipython",
    "version": 3
   },
   "file_extension": ".py",
   "mimetype": "text/x-python",
   "name": "python",
   "nbconvert_exporter": "python",
   "pygments_lexer": "ipython3",
   "version": "3.12.10"
  }
 },
 "nbformat": 4,
 "nbformat_minor": 5
}
