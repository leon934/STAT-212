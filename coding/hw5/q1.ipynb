{
 "cells": [
  {
   "cell_type": "code",
   "execution_count": null,
   "id": "88917aa6",
   "metadata": {},
   "outputs": [],
   "source": [
    "E_i = 15\n",
    "\n",
    "O = [12, 16, 17, 15, 13, 20, 17, 10]\n",
    "\n",
    "chi_square = 0\n",
    "\n",
    "for O_i in O:\n",
    "    chi_square += (O_i - E_i) ** 2 / E_i\n",
    "\n",
    "print(chi_square)"
   ]
  }
 ],
 "metadata": {
  "kernelspec": {
   "display_name": "Python 3",
   "language": "python",
   "name": "python3"
  },
  "language_info": {
   "codemirror_mode": {
    "name": "ipython",
    "version": 3
   },
   "file_extension": ".py",
   "mimetype": "text/x-python",
   "name": "python",
   "nbconvert_exporter": "python",
   "pygments_lexer": "ipython3",
   "version": "3.12.10"
  }
 },
 "nbformat": 4,
 "nbformat_minor": 5
}
